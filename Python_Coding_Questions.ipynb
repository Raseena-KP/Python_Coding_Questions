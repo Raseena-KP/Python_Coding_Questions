{
 "cells": [
  {
   "cell_type": "markdown",
   "id": "7c3dca4f",
   "metadata": {},
   "source": [
    "# Python Coding Questions"
   ]
  },
  {
   "cell_type": "markdown",
   "id": "0e4167c2",
   "metadata": {},
   "source": [
    "Questions:\n",
    "    \n",
    "    1. Write a Python program to calculate the factorial of a given number.\n",
    "    2. Write a Python program to find the largest element in an array.\n",
    "    3. Write a Python program to reverse a given string.\n",
    "    4. Write a Python program to check if a given string is a palindrome.\n",
    "    5. Write a Python program to sort an array in ascending or descending order.\n",
    "    6. Write a Python program to find the sum of all elements in an array.\n",
    "    7. Write a Python program to find the second largest element in an array.\n",
    "    8. Write a Python program to remove duplicate elements from an array.\n",
    "    9. Write a Python program to count the number of occurrences of an element in an array.\n",
    "    10. Write a Python program to find the length of the longest consecutive sequence in an array.\n",
    "    11. Write a Python program to find the exponent of a number.\n",
    "    12. Write a Python program to find the most frequent number in a list.\n",
    "    13. Write a Python program to print the below pattern.\n",
    "        \n",
    "            * \n",
    "            * * \n",
    "            * * * \n",
    "            * * * * \n",
    "            * * * * * \n",
    "            * * * * \n",
    "            * * * \n",
    "            * * \n",
    "            * \n",
    "    14. Write a function to check whether the given mail Id is valid or not."
   ]
  },
  {
   "cell_type": "markdown",
   "id": "ac8ce5c6",
   "metadata": {},
   "source": [
    "**1. Write a Python program to calculate the factorial of a given number.**"
   ]
  },
  {
   "cell_type": "markdown",
   "id": "b8be3ce5",
   "metadata": {},
   "source": [
    "The factorial of a number is the product of all the integers from 1 to that number. "
   ]
  },
  {
   "cell_type": "code",
   "execution_count": 1,
   "id": "611c0adc",
   "metadata": {},
   "outputs": [
    {
     "name": "stdout",
     "output_type": "stream",
     "text": [
      "Enter a no: 5\n",
      "Factorial of the given No. is =  120\n"
     ]
    }
   ],
   "source": [
    "# inputting a number to find its factorial\n",
    "num=int(input(\"Enter a no: \"))\n",
    "factorial_value=1\n",
    "val=num\n",
    "\n",
    "# finding the factorial value using a For-loop\n",
    "for i in range (1, num):\n",
    "    if val>0:\n",
    "        factorial_value=factorial_value*val\n",
    "    val=val-1\n",
    "\n",
    "# print the output value\n",
    "print(\"Factorial of the given No. is = \",factorial_value)"
   ]
  },
  {
   "cell_type": "markdown",
   "id": "896a178a",
   "metadata": {},
   "source": [
    "**2. Write a Python program to find the largest element in an array.**"
   ]
  },
  {
   "cell_type": "code",
   "execution_count": 2,
   "id": "6df633dd",
   "metadata": {},
   "outputs": [
    {
     "name": "stdout",
     "output_type": "stream",
     "text": [
      "Enter the length of the array: 5\n",
      "Enter the 0 number:3\n",
      "Enter the 1 number:9\n",
      "Enter the 2 number:8\n",
      "Enter the 3 number:6\n",
      "Enter the 4 number:7\n",
      "Largest Element in the array is  9\n"
     ]
    }
   ],
   "source": [
    "# input the array length\n",
    "num=int(input(\"Enter the length of the array: \"))\n",
    "test_array=[]\n",
    "\n",
    "#input array elements\n",
    "for i in range(0,num):\n",
    "    val=int(input('Enter the %d number:'%i))\n",
    "    test_array.append(val)\n",
    "\n",
    "#find the largest element\n",
    "print(\"Largest Element in the array is \", max(test_array))"
   ]
  },
  {
   "cell_type": "markdown",
   "id": "946880f7",
   "metadata": {},
   "source": [
    "**3. Write a Python program to reverse a given string.**"
   ]
  },
  {
   "cell_type": "code",
   "execution_count": 3,
   "id": "c6103645",
   "metadata": {},
   "outputs": [
    {
     "name": "stdout",
     "output_type": "stream",
     "text": [
      "Enter a word: hellooo\n",
      "ooolleh"
     ]
    }
   ],
   "source": [
    "# method 1\n",
    "\n",
    "# input a word\n",
    "test_string=input(\"Enter a word: \")\n",
    "\n",
    "# Reversing using for-loop\n",
    "for i in range(1,len(test_string)+1):\n",
    "    print(test_string[-i],end=\"\")"
   ]
  },
  {
   "cell_type": "code",
   "execution_count": 4,
   "id": "7e922808",
   "metadata": {},
   "outputs": [
    {
     "name": "stdout",
     "output_type": "stream",
     "text": [
      "ooolleh\n"
     ]
    }
   ],
   "source": [
    "# method 2 -by Slicing\n",
    "\n",
    "# The slice statement means start at string length, end at position 0, move with the step -1 (or one step backward).\n",
    "reversed_n=test_string[len(test_string)::-1] \n",
    "\n",
    "# print the reversed string\n",
    "print(reversed_n)\n"
   ]
  },
  {
   "cell_type": "markdown",
   "id": "c90501ca",
   "metadata": {},
   "source": [
    "**4. Write a Python program to check if a given string is a palindrome.**"
   ]
  },
  {
   "cell_type": "code",
   "execution_count": 5,
   "id": "8b09566b",
   "metadata": {},
   "outputs": [
    {
     "name": "stdout",
     "output_type": "stream",
     "text": [
      "Enter a word: malayalam\n",
      "String is a palindrome\n"
     ]
    }
   ],
   "source": [
    "# input a word\n",
    "test_string=input(\"Enter a word: \")\n",
    "\n",
    "#reverse the provided string using slicer\n",
    "reversed_n=test_string[len(test_string)::-1]  \n",
    "\n",
    "# check whether the string is palindrome or not\n",
    "if test_string==reversed_n:\n",
    "    print(\"String is a palindrome\")\n",
    "else:\n",
    "    print(\"String is not a palindrome\")"
   ]
  },
  {
   "cell_type": "markdown",
   "id": "d1aecac8",
   "metadata": {},
   "source": [
    "**5. Write a Python program to sort an array in ascending or descending order.**"
   ]
  },
  {
   "cell_type": "code",
   "execution_count": 6,
   "id": "229bc749",
   "metadata": {},
   "outputs": [
    {
     "name": "stdout",
     "output_type": "stream",
     "text": [
      "Enter the length of the array: 4\n",
      "Enter the 0 number:3\n",
      "Enter the 1 number:9\n",
      "Enter the 2 number:4\n",
      "Enter the 3 number:6\n",
      "Enter the sort order(1: Ascending ,2:Descending): 2\n",
      "[9, 6, 4, 3]\n"
     ]
    }
   ],
   "source": [
    "# input the array length\n",
    "num=int(input(\"Enter the length of the array: \"))\n",
    "test_array=[]\n",
    "\n",
    "#input array elements\n",
    "for i in range(0,num):\n",
    "    val=int(input('Enter the %d number:'%i))\n",
    "    test_array.append(val)\n",
    "\n",
    "# input the sort order\n",
    "ord=int(input(\"Enter the sort order(1: Ascending ,2:Descending): \"))\n",
    "\n",
    "# sort the array value based on the input\n",
    "if ord==1:\n",
    "    test_array.sort()\n",
    "else:\n",
    "    test_array.sort(reverse=True)\n",
    "\n",
    "# print thr sorted array\n",
    "print(test_array)"
   ]
  },
  {
   "cell_type": "markdown",
   "id": "f909c6da",
   "metadata": {},
   "source": [
    "The sort() method doesn't return any value. Rather, it changes the original list.</br>\n",
    "If we want a function to return the sorted list rather than change the original list, use sorted()."
   ]
  },
  {
   "cell_type": "markdown",
   "id": "22744704",
   "metadata": {},
   "source": [
    "**6. Write a Python program to find the sum of all elements in an array.**"
   ]
  },
  {
   "cell_type": "code",
   "execution_count": 7,
   "id": "e73f8106",
   "metadata": {},
   "outputs": [
    {
     "name": "stdout",
     "output_type": "stream",
     "text": [
      "Enter the length of the array: 5\n",
      "Enter the 0 number:1\n",
      "Enter the 1 number:2\n",
      "Enter the 2 number:3\n",
      "Enter the 3 number:4\n",
      "Enter the 4 number:5\n",
      "Sum of all elements in an array =  15\n"
     ]
    }
   ],
   "source": [
    "# input the array length\n",
    "num=int(input(\"Enter the length of the array: \"))\n",
    "test_array=[]\n",
    "sum_array=0\n",
    "\n",
    "#input array elements\n",
    "for i in range(0,num):\n",
    "    val=int(input('Enter the %d number:'%i))\n",
    "    test_array.append(val)\n",
    "    \n",
    "# adding the elements in the array\n",
    "for i in range(len(test_array)):\n",
    "    sum_array=sum_array+test_array[i]\n",
    "    \n",
    "#print the output\n",
    "print(\"Sum of all elements in an array = \",sum_array)"
   ]
  },
  {
   "cell_type": "markdown",
   "id": "7e7a890d",
   "metadata": {},
   "source": [
    "Note: we can improve the limitations of list using numpy's array."
   ]
  },
  {
   "cell_type": "markdown",
   "id": "f1d83e3c",
   "metadata": {},
   "source": [
    "**7. Write a Python program to find the second largest element in an array.**"
   ]
  },
  {
   "cell_type": "code",
   "execution_count": 8,
   "id": "3a104823",
   "metadata": {},
   "outputs": [
    {
     "name": "stdout",
     "output_type": "stream",
     "text": [
      "Enter the length of the array: 4\n",
      "Enter the 0 number:8\n",
      "Enter the 1 number:10\n",
      "Enter the 2 number:7\n",
      "Enter the 3 number:9\n",
      "Second largest element in the array is  9\n"
     ]
    }
   ],
   "source": [
    "# input the array length\n",
    "num=int(input(\"Enter the length of the array: \"))\n",
    "test_array=[]\n",
    "sum_array=0\n",
    "\n",
    "#input array elements\n",
    "for i in range(0,num):\n",
    "    val=int(input('Enter the %d number:'%i))\n",
    "    test_array.append(val)\n",
    "\n",
    "# sort the array in descending order \n",
    "test_array.sort(reverse=True)\n",
    "\n",
    "# print the value in the second position in the array\n",
    "print(\"Second largest element in the array is \", test_array[1])"
   ]
  },
  {
   "cell_type": "markdown",
   "id": "4922e600",
   "metadata": {},
   "source": [
    "**8. Write a Python program to remove duplicate elements from an array.**"
   ]
  },
  {
   "cell_type": "code",
   "execution_count": 9,
   "id": "622b8ce6",
   "metadata": {},
   "outputs": [
    {
     "name": "stdout",
     "output_type": "stream",
     "text": [
      "Enter the length of the array: 7\n",
      "Enter the 0 number:1\n",
      "Enter the 1 number:2\n",
      "Enter the 2 number:2\n",
      "Enter the 3 number:2\n",
      "Enter the 4 number:3\n",
      "Enter the 5 number:3\n",
      "Enter the 6 number:3\n",
      "Duplicates are removed from the array  [1, 2, 3]\n"
     ]
    }
   ],
   "source": [
    "# input the array length\n",
    "num=int(input(\"Enter the length of the array: \"))\n",
    "test_array=[]\n",
    "sum_array=0\n",
    "new_test_array=[]\n",
    "dupl=[]\n",
    "\n",
    "#input array elements\n",
    "for i in range(0,num):\n",
    "    val=int(input('Enter the %d number:'%i))\n",
    "    test_array.append(val)\n",
    "\n",
    "#copy the array\n",
    "test_array1=test_array.copy()\n",
    "\n",
    "# removing duplicates\n",
    "for i in test_array:\n",
    "    if i not in new_test_array:\n",
    "        new_test_array.append(i)\n",
    "    else:\n",
    "        test_array1.remove(i)\n",
    "        \n",
    "# print the array with no duplicates   \n",
    "print(\"Duplicates are removed from the array \",test_array1)"
   ]
  },
  {
   "cell_type": "markdown",
   "id": "866f544f",
   "metadata": {},
   "source": [
    "**9. Write a Python program to count the number of occurrences of an element in an array.**"
   ]
  },
  {
   "cell_type": "code",
   "execution_count": 10,
   "id": "b713c877",
   "metadata": {},
   "outputs": [
    {
     "name": "stdout",
     "output_type": "stream",
     "text": [
      "Enter the length of the array: 7\n",
      "Enter the 0 number:1\n",
      "Enter the 1 number:2\n",
      "Enter the 2 number:2\n",
      "Enter the 3 number:2\n",
      "Enter the 4 number:3\n",
      "Enter the 5 number:3\n",
      "Enter the 6 number:4\n",
      "{1: 1, 2: 3, 3: 2, 4: 1}\n"
     ]
    }
   ],
   "source": [
    "# input the array length\n",
    "num=int(input(\"Enter the length of the array: \"))\n",
    "counter={}\n",
    "test_array=[]\n",
    "\n",
    "new_test_array=[]\n",
    "count=1\n",
    "\n",
    "#input array elements\n",
    "for i in range(0,num):\n",
    "    val=int(input('Enter the %d number:'%i))\n",
    "    test_array.append(val)\n",
    "    \n",
    "#copy the array\n",
    "test_array1=test_array.copy()\n",
    "\n",
    "# creating the counter to count the occurences\n",
    "for i in test_array:\n",
    "    if i not in counter:\n",
    "        counter[i]=1\n",
    "    else:\n",
    "        counter[i]=counter[i]+1\n",
    "\n",
    "#print the counter\n",
    "print(counter)"
   ]
  },
  {
   "cell_type": "markdown",
   "id": "20b527dc",
   "metadata": {},
   "source": [
    "**10. Write a Python program to find the length of the longest consecutive sequence in an array.**"
   ]
  },
  {
   "cell_type": "code",
   "execution_count": 11,
   "id": "e7ed0e9e",
   "metadata": {},
   "outputs": [
    {
     "name": "stdout",
     "output_type": "stream",
     "text": [
      "Enter the length of the array: 7\n",
      "Enter the 0 number:1\n",
      "Enter the 1 number:22\n",
      "Enter the 2 number:333\n",
      "Enter the 3 number:44\n",
      "Enter the 4 number:5555\n",
      "Enter the 5 number:6\n",
      "Enter the 6 number:999\n",
      "Longest consecutive sequence in an array 4\n"
     ]
    }
   ],
   "source": [
    "# input the array length\n",
    "num=int(input(\"Enter the length of the array: \"))\n",
    "test_array=[]\n",
    "length_arr=0\n",
    "\n",
    "#input array elements\n",
    "for i in range(0,num):\n",
    "    val=input('Enter the %d number:'%i)\n",
    "    test_array.append(val)\n",
    "    \n",
    "#find the longest consecutive sequence in an array\n",
    "\n",
    "for i in test_array:\n",
    "    if length_arr<len(i):\n",
    "        length_arr=len(i)\n",
    "\n",
    "print(\"Longest consecutive sequence in an array\",length_arr)\n"
   ]
  },
  {
   "cell_type": "markdown",
   "id": "13a6c0f9",
   "metadata": {},
   "source": [
    "**11. Write a Python program to find the exponent of a number.**"
   ]
  },
  {
   "cell_type": "code",
   "execution_count": 12,
   "id": "578d3d43",
   "metadata": {},
   "outputs": [
    {
     "name": "stdout",
     "output_type": "stream",
     "text": [
      "Enter the base no: 2\n",
      "Enter the exponential value: 3\n",
      "Exponent of the given number =  8\n"
     ]
    }
   ],
   "source": [
    "# input the base\n",
    "\n",
    "def exponent_fn(base,exp):\n",
    "    if(exp == 1):\n",
    "        return base\n",
    "    else:   \n",
    "        return (base*exponent_fn(base,exp-1))\n",
    "  \n",
    "base=int(input(\"Enter the base no: \"))\n",
    "exp=int(input(\"Enter the exponential value: \"))\n",
    "\n",
    "\n",
    "print('Exponent of the given number = ',exponent_fn(base,exp))"
   ]
  },
  {
   "cell_type": "markdown",
   "id": "be63c2da",
   "metadata": {},
   "source": [
    "**12. Write a Python program to find the most frequent number in a list.**"
   ]
  },
  {
   "cell_type": "code",
   "execution_count": 13,
   "id": "b91fb28e",
   "metadata": {},
   "outputs": [
    {
     "name": "stdout",
     "output_type": "stream",
     "text": [
      "Enter the length of the array: 5\n",
      "Enter the 0 number:1\n",
      "Enter the 1 number:1\n",
      "Enter the 2 number:1\n",
      "Enter the 3 number:1\n",
      "Enter the 4 number:2\n",
      "Most frequent number in a list 1\n"
     ]
    }
   ],
   "source": [
    "# input the array length\n",
    "num=int(input(\"Enter the length of the array: \"))\n",
    "counter={}\n",
    "test_array=[]\n",
    "\n",
    "count=1\n",
    "\n",
    "#input array elements\n",
    "for i in range(0,num):\n",
    "    val=int(input('Enter the %d number:'%i))\n",
    "    test_array.append(val)\n",
    "    \n",
    "#copy the array\n",
    "test_array1=test_array.copy()\n",
    "\n",
    "# creating the counter to count the occurences\n",
    "for i in test_array:\n",
    "    if i not in counter:\n",
    "        counter[i]=1\n",
    "    else:\n",
    "        counter[i]=counter[i]+1\n",
    "\n",
    "#print the counter\n",
    "print('Most frequent number in a list',max(counter, key=counter.get) )"
   ]
  },
  {
   "cell_type": "markdown",
   "id": "e7618246",
   "metadata": {},
   "source": [
    "**13. Write a Python program to print the below pattern.**"
   ]
  },
  {
   "cell_type": "markdown",
   "id": "c6e45d8d",
   "metadata": {},
   "source": [
    "            * \n",
    "            * * \n",
    "            * * * \n",
    "            * * * * \n",
    "            * * * * * \n",
    "            * * * * \n",
    "            * * * \n",
    "            * * \n",
    "            * "
   ]
  },
  {
   "cell_type": "code",
   "execution_count": 14,
   "id": "f0b0a0a8",
   "metadata": {},
   "outputs": [
    {
     "name": "stdout",
     "output_type": "stream",
     "text": [
      "Enter the maximum * needed: 7\n",
      "*      \n",
      "* *     \n",
      "* * *    \n",
      "* * * *   \n",
      "* * * * *  \n",
      "* * * * * * \n",
      "* * * * * * * \n",
      "* * * * * * \n",
      "* * * * * \n",
      "* * * * \n",
      "* * * \n",
      "* * \n",
      "* \n"
     ]
    }
   ],
   "source": [
    "# enter maximun no of * needed\n",
    "num=int(input(\"Enter the maximum * needed: \"))\n",
    "\n",
    "# foreloop to print *\n",
    "for i in range(1,num):\n",
    "    for j in range(1,num):\n",
    "        if j<=i:\n",
    "            print('*',end=\" \")\n",
    "        else:\n",
    "            print('',end=\" \")\n",
    "    print('')  \n",
    "\n",
    "for i in range(num,0,-1):\n",
    "    for j in range(num,0,-1):\n",
    "        if j<=i:\n",
    "            print('*',end=\" \")\n",
    "\n",
    "    print('')      "
   ]
  },
  {
   "cell_type": "markdown",
   "id": "83968ceb",
   "metadata": {},
   "source": [
    "**14. Write a function to check whether the given mail Id is valid or not.**"
   ]
  },
  {
   "cell_type": "code",
   "execution_count": 42,
   "id": "3d406c8e",
   "metadata": {},
   "outputs": [
    {
     "name": "stdout",
     "output_type": "stream",
     "text": [
      "Mail ID is valid\n"
     ]
    }
   ],
   "source": [
    "# importing the re module\n",
    "\n",
    "import re\n",
    "mail=\"davood_R@gmail.com\"\n",
    "\n",
    "#create a function to match the provided email with regular expression \n",
    "def isMailValid(mail):\n",
    "    #creat an expression- such that string should be starting [A-Z0-9] can be followed by [.-_] & [A-Z0-9] then\n",
    "    #\"@\" again can be folowed by '.[A-Z]' with atleast 2 characters\n",
    "    \n",
    "    # write the pattern we want\n",
    "    regex=\"(^[A-Z0-9]+[.-_])*[A-Z0-9]+@[A-Z0-9-]+(\\.[A-Z]{2,}$)\"\n",
    "    \n",
    "    #check the length of string\n",
    "    if len(mail)>10:\n",
    "        \n",
    "        # match the email provided with the expression we created using re.match function\n",
    "        #re. IGNORECASE forces the function to perform a case-insensitive search\n",
    "        \n",
    "        if re.match(regex,mail, re.IGNORECASE)is not None:\n",
    "            return True\n",
    "        \n",
    "if isMailValid(mail):\n",
    "    print('Mail ID is valid')\n",
    "else:\n",
    "    print('Mail ID is not valid')"
   ]
  },
  {
   "cell_type": "code",
   "execution_count": null,
   "id": "0bffc7c5",
   "metadata": {},
   "outputs": [],
   "source": []
  },
  {
   "cell_type": "code",
   "execution_count": null,
   "id": "05e54457",
   "metadata": {},
   "outputs": [],
   "source": []
  }
 ],
 "metadata": {
  "kernelspec": {
   "display_name": "Python 3 (ipykernel)",
   "language": "python",
   "name": "python3"
  },
  "language_info": {
   "codemirror_mode": {
    "name": "ipython",
    "version": 3
   },
   "file_extension": ".py",
   "mimetype": "text/x-python",
   "name": "python",
   "nbconvert_exporter": "python",
   "pygments_lexer": "ipython3",
   "version": "3.9.12"
  }
 },
 "nbformat": 4,
 "nbformat_minor": 5
}
